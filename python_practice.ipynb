{
  "nbformat": 4,
  "nbformat_minor": 0,
  "metadata": {
    "colab": {
      "provenance": [],
      "authorship_tag": "ABX9TyOnegZM6I/DvC83y3JuH28a",
      "include_colab_link": true
    },
    "kernelspec": {
      "name": "python3",
      "display_name": "Python 3"
    },
    "language_info": {
      "name": "python"
    }
  },
  "cells": [
    {
      "cell_type": "markdown",
      "metadata": {
        "id": "view-in-github",
        "colab_type": "text"
      },
      "source": [
        "<a href=\"https://colab.research.google.com/github/khalilkhan1111/python_practice/blob/main/python_practice.ipynb\" target=\"_parent\"><img src=\"https://colab.research.google.com/assets/colab-badge.svg\" alt=\"Open In Colab\"/></a>"
      ]
    },
    {
      "cell_type": "markdown",
      "source": [
        "**Integers and Floats**"
      ],
      "metadata": {
        "id": "-FyHUZdn7cUr"
      }
    },
    {
      "cell_type": "code",
      "execution_count": 2,
      "metadata": {
        "colab": {
          "base_uri": "https://localhost:8080/"
        },
        "id": "Rrj5nhv_7ZGG",
        "outputId": "6b1e6eb4-0d46-482e-86a3-8b26e5605687"
      },
      "outputs": [
        {
          "output_type": "stream",
          "name": "stdout",
          "text": [
            "Enter the first number: 8.5\n",
            "Enter the second number: 2\n",
            "Enter the operator (+, -, *, /): -\n",
            "Result: 6.5\n"
          ]
        }
      ],
      "source": [
        "def calculator(operator, num1, num2):\n",
        "    try:\n",
        "        if not (isinstance(num1, (int, float)) and isinstance(num2, (int, float))):\n",
        "            raise ValueError(\"Invalid input. Numbers expected.\")\n",
        "\n",
        "        if operator == '+':\n",
        "            result = num1 + num2\n",
        "        elif operator == '-':\n",
        "            result = num1 - num2\n",
        "        elif operator == '*':\n",
        "            result = num1 * num2\n",
        "        elif operator == '/':\n",
        "            if num2 == 0:\n",
        "                raise ZeroDivisionError(\"Cannot divide by zero.\")\n",
        "            result = num1 / num2\n",
        "        else:\n",
        "            raise ValueError(\"Invalid operator.\")\n",
        "\n",
        "        return result\n",
        "    except (ValueError, ZeroDivisionError) as e:\n",
        "        return str(e)\n",
        "\n",
        "try:\n",
        "    num1 = float(input(\"Enter the first number: \"))\n",
        "    num2 = float(input(\"Enter the second number: \"))\n",
        "    operator = input(\"Enter the operator (+, -, *, /): \")\n",
        "\n",
        "    result = calculator(operator, num1, num2)\n",
        "    print(\"Result:\", result)\n",
        "except ValueError as ve:\n",
        "    print(\"Error:\", ve)\n",
        "except ZeroDivisionError as zde:\n",
        "    print(\"Error:\", zde)"
      ]
    },
    {
      "cell_type": "markdown",
      "source": [
        "**Introduction to Strings**"
      ],
      "metadata": {
        "id": "JxPcsct6_7fv"
      }
    },
    {
      "cell_type": "code",
      "source": [
        "# Strings are immutable\n",
        "a = \"khalil!\"\n",
        "print(a)"
      ],
      "metadata": {
        "colab": {
          "base_uri": "https://localhost:8080/"
        },
        "id": "8rF7yJ_j_9sy",
        "outputId": "f7837e21-889f-4bc1-ca38-cb4419f5f04f"
      },
      "execution_count": 4,
      "outputs": [
        {
          "output_type": "stream",
          "name": "stdout",
          "text": [
            "khalil!\n"
          ]
        }
      ]
    },
    {
      "cell_type": "markdown",
      "source": [
        "Length of a string"
      ],
      "metadata": {
        "id": "_tZSUl-sAIXE"
      }
    },
    {
      "cell_type": "code",
      "source": [
        "len(a)"
      ],
      "metadata": {
        "colab": {
          "base_uri": "https://localhost:8080/"
        },
        "id": "84P7g8gLAVmt",
        "outputId": "52deb3a5-b5a5-4553-940b-363c4e356d4d"
      },
      "execution_count": 5,
      "outputs": [
        {
          "output_type": "execute_result",
          "data": {
            "text/plain": [
              "7"
            ]
          },
          "metadata": {},
          "execution_count": 5
        }
      ]
    },
    {
      "cell_type": "markdown",
      "source": [
        "slicing technique\n"
      ],
      "metadata": {
        "id": "PJHjRHgNAZDM"
      }
    },
    {
      "cell_type": "code",
      "source": [
        "#length is 0 to n-1\n",
        "print(a[0:3])"
      ],
      "metadata": {
        "colab": {
          "base_uri": "https://localhost:8080/"
        },
        "id": "vHrZSWH_AkfF",
        "outputId": "463e96eb-a592-4067-9305-febbd8d9a536"
      },
      "execution_count": 8,
      "outputs": [
        {
          "output_type": "stream",
          "name": "stdout",
          "text": [
            "kha\n"
          ]
        }
      ]
    },
    {
      "cell_type": "markdown",
      "source": [
        "negative slicing\n"
      ],
      "metadata": {
        "id": "pQQYUMGkAyMQ"
      }
    },
    {
      "cell_type": "code",
      "source": [
        "(a[-5:-2])"
      ],
      "metadata": {
        "colab": {
          "base_uri": "https://localhost:8080/",
          "height": 35
        },
        "id": "r53Cy8WaAt_-",
        "outputId": "dad3edb0-052a-45a2-bb28-50bdc651069e"
      },
      "execution_count": 9,
      "outputs": [
        {
          "output_type": "execute_result",
          "data": {
            "text/plain": [
              "'ali'"
            ],
            "application/vnd.google.colaboratory.intrinsic+json": {
              "type": "string"
            }
          },
          "metadata": {},
          "execution_count": 9
        }
      ]
    },
    {
      "cell_type": "markdown",
      "source": [
        "upper and lower case"
      ],
      "metadata": {
        "id": "NyTJcesPBBR2"
      }
    },
    {
      "cell_type": "code",
      "source": [
        "a.upper()\n"
      ],
      "metadata": {
        "colab": {
          "base_uri": "https://localhost:8080/",
          "height": 35
        },
        "id": "Y47ahHYaBAJ_",
        "outputId": "0c3da0e0-68b6-4866-d6d0-a9247ac2b642"
      },
      "execution_count": 11,
      "outputs": [
        {
          "output_type": "execute_result",
          "data": {
            "text/plain": [
              "'KHALIL!'"
            ],
            "application/vnd.google.colaboratory.intrinsic+json": {
              "type": "string"
            }
          },
          "metadata": {},
          "execution_count": 11
        }
      ]
    },
    {
      "cell_type": "code",
      "source": [
        "a.lower()"
      ],
      "metadata": {
        "colab": {
          "base_uri": "https://localhost:8080/",
          "height": 35
        },
        "id": "UXCYDM75BNXj",
        "outputId": "f3bb388e-0c40-4c4e-f02a-a63e0a6d25d4"
      },
      "execution_count": 12,
      "outputs": [
        {
          "output_type": "execute_result",
          "data": {
            "text/plain": [
              "'khalil!'"
            ],
            "application/vnd.google.colaboratory.intrinsic+json": {
              "type": "string"
            }
          },
          "metadata": {},
          "execution_count": 12
        }
      ]
    },
    {
      "cell_type": "markdown",
      "source": [
        "replace"
      ],
      "metadata": {
        "id": "PU0YATDwBP3r"
      }
    },
    {
      "cell_type": "code",
      "source": [
        "print(a.replace( \"khalil!\",\"parveen!\"))"
      ],
      "metadata": {
        "colab": {
          "base_uri": "https://localhost:8080/"
        },
        "id": "OWv9gSwtBXUe",
        "outputId": "37b190d7-1ce8-4c1b-bb81-8c6bb74cc81d"
      },
      "execution_count": 16,
      "outputs": [
        {
          "output_type": "stream",
          "name": "stdout",
          "text": [
            "parveen!\n"
          ]
        }
      ]
    },
    {
      "cell_type": "markdown",
      "source": [
        "split"
      ],
      "metadata": {
        "id": "EGUgR0dLBnkH"
      }
    },
    {
      "cell_type": "code",
      "source": [
        "print(a.split())"
      ],
      "metadata": {
        "colab": {
          "base_uri": "https://localhost:8080/"
        },
        "id": "efI8InvtBrVk",
        "outputId": "d43ef00d-7a14-43d2-e742-c9aed6bce235"
      },
      "execution_count": 17,
      "outputs": [
        {
          "output_type": "stream",
          "name": "stdout",
          "text": [
            "['khalil!']\n"
          ]
        }
      ]
    },
    {
      "cell_type": "markdown",
      "source": [
        "Write a Python function to get a string made of 4\n",
        "copies of the last two characters of a specified string (length must be at least 2)."
      ],
      "metadata": {
        "id": "1LLmlhiVB-O4"
      }
    },
    {
      "cell_type": "code",
      "source": [
        "str1 = str(input())\n",
        "def sub_str(str1):\n",
        "    sub_str = str1[-2:]\n",
        "    return sub_str * 4\n",
        "print(sub_str(str1))"
      ],
      "metadata": {
        "colab": {
          "base_uri": "https://localhost:8080/"
        },
        "id": "PT4mJ83jCAIb",
        "outputId": "6e7bf056-0eb7-45de-95da-97af7eb5c49f"
      },
      "execution_count": 18,
      "outputs": [
        {
          "output_type": "stream",
          "name": "stdout",
          "text": [
            "khalil\n",
            "ilililil\n"
          ]
        }
      ]
    },
    {
      "cell_type": "markdown",
      "source": [
        "Write a Python program to remove the nth index character from a nonempty string."
      ],
      "metadata": {
        "id": "HDqS2wiqCJUH"
      }
    },
    {
      "cell_type": "code",
      "source": [
        "strn = str(input())\n",
        "n = int(input())\n",
        "def remove_char(str, n):\n",
        "     first_part = str[:n]\n",
        "     last_part = str[n+1:]\n",
        "     return first_part + last_part\n",
        "print(remove_char(strn, n))"
      ],
      "metadata": {
        "colab": {
          "base_uri": "https://localhost:8080/"
        },
        "id": "Q_E2J0C7CN1Q",
        "outputId": "fe6cf3e1-0f07-4fb4-ecb4-354797bd76a7"
      },
      "execution_count": 19,
      "outputs": [
        {
          "output_type": "stream",
          "name": "stdout",
          "text": [
            "khalil\n",
            "3\n",
            "khail\n"
          ]
        }
      ]
    },
    {
      "cell_type": "markdown",
      "source": [
        "Write a Python program to change a given string to a new string where the first and last chars have been exchanged."
      ],
      "metadata": {
        "id": "pOgIMvomCY6A"
      }
    },
    {
      "cell_type": "code",
      "source": [
        "str1 = str(input())\n",
        "def change_string(str1):\n",
        "    return str1[-1:] + str1[1:-1] + str1[:1]\n",
        "print(change_string(str1))"
      ],
      "metadata": {
        "colab": {
          "base_uri": "https://localhost:8080/"
        },
        "id": "Vyw6P07MCcxZ",
        "outputId": "f5a588cf-7626-4b1e-8bff-90b8a9790ffe"
      },
      "execution_count": 20,
      "outputs": [
        {
          "output_type": "stream",
          "name": "stdout",
          "text": [
            "khalil\n",
            "lhalik\n"
          ]
        }
      ]
    },
    {
      "cell_type": "markdown",
      "source": [
        "**List**"
      ],
      "metadata": {
        "id": "G9Anp1S5Cvkt"
      }
    },
    {
      "cell_type": "markdown",
      "source": [
        "Given a list, write a Python program to swap first and last element of the list."
      ],
      "metadata": {
        "id": "dWZVdzxvC7Bd"
      }
    },
    {
      "cell_type": "code",
      "source": [
        "a = [12, 35, 9, 56, 24]\n",
        "def new_a(a) :\n",
        "    return (a[-1:] + a[1:-1] + a[:1])\n",
        "print(new_a(a))"
      ],
      "metadata": {
        "colab": {
          "base_uri": "https://localhost:8080/"
        },
        "id": "10boFE29DJww",
        "outputId": "9c214939-6b9c-4ca2-e0df-70d5eedb26ca"
      },
      "execution_count": 21,
      "outputs": [
        {
          "output_type": "stream",
          "name": "stdout",
          "text": [
            "[24, 35, 9, 56, 12]\n"
          ]
        }
      ]
    },
    {
      "cell_type": "markdown",
      "source": [
        "Given two numbers, write a Python code to find the Maximum of these two numbers."
      ],
      "metadata": {
        "id": "kkET0bciDQVi"
      }
    },
    {
      "cell_type": "code",
      "source": [
        "#list are mutable\n",
        "a = [3,4,10]\n",
        "a = [\"Apple\", \"apple\",\"zebra\"]\n",
        "print(max(a))"
      ],
      "metadata": {
        "colab": {
          "base_uri": "https://localhost:8080/"
        },
        "id": "ajr08H1NDU7N",
        "outputId": "69cbba89-d81a-45f0-e998-0f88666efb64"
      },
      "execution_count": 22,
      "outputs": [
        {
          "output_type": "stream",
          "name": "stdout",
          "text": [
            "zebra\n"
          ]
        }
      ]
    },
    {
      "cell_type": "markdown",
      "source": [
        "Given two numbers, write a Python code to find the Minimum of these two numbers."
      ],
      "metadata": {
        "id": "4k_cdMadDfu3"
      }
    },
    {
      "cell_type": "code",
      "source": [
        "a = [3,4,10]\n",
        "a = [\"Apple\", \"Zebra\", \"apple\",\"zebra\"]\n",
        "print(min(a))"
      ],
      "metadata": {
        "colab": {
          "base_uri": "https://localhost:8080/"
        },
        "id": "G0SM76EIDjL_",
        "outputId": "07c70e34-d940-4e19-aa08-985d945a0b48"
      },
      "execution_count": 23,
      "outputs": [
        {
          "output_type": "stream",
          "name": "stdout",
          "text": [
            "Apple\n"
          ]
        }
      ]
    },
    {
      "cell_type": "markdown",
      "source": [
        "Check if an element exists in the list using the if-else statement"
      ],
      "metadata": {
        "id": "SYkMKtMnD3sC"
      }
    },
    {
      "cell_type": "code",
      "source": [
        "test_list = [1, 6, 3, 5, 3, 4]\n",
        "n = (int(input()))\n",
        "if n in test_list :\n",
        "    print(True)\n",
        "else :\n",
        "    print(False)"
      ],
      "metadata": {
        "colab": {
          "base_uri": "https://localhost:8080/"
        },
        "id": "zO5sdT9hD4bI",
        "outputId": "fad4a2d9-8076-4e0a-f28f-764fe5c4adf4"
      },
      "execution_count": 24,
      "outputs": [
        {
          "output_type": "stream",
          "name": "stdout",
          "text": [
            "4\n",
            "True\n"
          ]
        }
      ]
    },
    {
      "cell_type": "markdown",
      "source": [
        "list in list"
      ],
      "metadata": {
        "id": "t-XL2R2SD_qI"
      }
    },
    {
      "cell_type": "code",
      "source": [
        "myList=[[1, 2, 3, 4, 5], [12, 13, 23], [10, 20, 30], [11, 22, 33], [12, 24, 36]]\n",
        "print(myList[3][2])"
      ],
      "metadata": {
        "colab": {
          "base_uri": "https://localhost:8080/"
        },
        "id": "3MG87f9HEEQI",
        "outputId": "2904af72-577b-49e3-be48-eabae33f7244"
      },
      "execution_count": 25,
      "outputs": [
        {
          "output_type": "stream",
          "name": "stdout",
          "text": [
            "33\n"
          ]
        }
      ]
    },
    {
      "cell_type": "markdown",
      "source": [
        "A list contains the average daily temperature(in degree Celsius) of\n",
        " a city over a particular week. Write a Python code to swap the highest and the lowest temperatures"
      ],
      "metadata": {
        "id": "6YzXr2VkEUO2"
      }
    },
    {
      "cell_type": "code",
      "source": [
        "temperatures = [34, 40, 29, 33, 42, 37, 39 ]\n",
        "max_temp = max(temperatures)\n",
        "max_temp_index = temperatures.index(max_temp)\n",
        "min_temp = min(temperatures)\n",
        "min_temp_index = temperatures.index(min_temp)\n",
        "temperatures[max_temp_index] = min_temp\n",
        "temperatures[min_temp_index] = max_temp\n",
        "print(temperatures)"
      ],
      "metadata": {
        "colab": {
          "base_uri": "https://localhost:8080/"
        },
        "id": "fgvRWNkOEVfH",
        "outputId": "ff769dfb-330b-41d6-87d0-a9685e6509de"
      },
      "execution_count": 27,
      "outputs": [
        {
          "output_type": "stream",
          "name": "stdout",
          "text": [
            "[34, 40, 42, 33, 29, 37, 39]\n"
          ]
        }
      ]
    },
    {
      "cell_type": "markdown",
      "source": [
        "removing nested"
      ],
      "metadata": {
        "id": "AJSAaOx3EuiU"
      }
    },
    {
      "cell_type": "code",
      "source": [
        "tech_companies = ['Qualcomm','Google','Apple',['Nvidia','Cisco','Samsung']]\n",
        "last = tech_companies[-1]\n",
        "company = tech_companies[:3] + tech_companies[-1]\n",
        "print(company)"
      ],
      "metadata": {
        "colab": {
          "base_uri": "https://localhost:8080/"
        },
        "id": "oc-GwOB1EwZg",
        "outputId": "0cf27867-f479-4755-b3ce-1e03a78155b3"
      },
      "execution_count": 28,
      "outputs": [
        {
          "output_type": "stream",
          "name": "stdout",
          "text": [
            "['Qualcomm', 'Google', 'Apple', 'Nvidia', 'Cisco', 'Samsung']\n"
          ]
        }
      ]
    },
    {
      "cell_type": "markdown",
      "source": [
        "type check\n"
      ],
      "metadata": {
        "id": "_Z9F2hQ5FZuR"
      }
    },
    {
      "cell_type": "code",
      "source": [
        "print(type(tech_companies))"
      ],
      "metadata": {
        "colab": {
          "base_uri": "https://localhost:8080/"
        },
        "id": "Ee53fRsXFbqw",
        "outputId": "4f00f404-be59-41ad-ce1b-2ec1b0081c20"
      },
      "execution_count": 29,
      "outputs": [
        {
          "output_type": "stream",
          "name": "stdout",
          "text": [
            "<class 'list'>\n"
          ]
        }
      ]
    },
    {
      "cell_type": "markdown",
      "source": [
        "Tuple\n"
      ],
      "metadata": {
        "id": "3ubUCVAEFu8R"
      }
    },
    {
      "cell_type": "code",
      "source": [
        "my_tuple = (1,'a',3)\n",
        "my_tuple"
      ],
      "metadata": {
        "colab": {
          "base_uri": "https://localhost:8080/"
        },
        "id": "2PYMkYT4FxYc",
        "outputId": "28a72a4c-d8f6-4325-c3ff-137b2b518715"
      },
      "execution_count": 30,
      "outputs": [
        {
          "output_type": "execute_result",
          "data": {
            "text/plain": [
              "(1, 'a', 3)"
            ]
          },
          "metadata": {},
          "execution_count": 30
        }
      ]
    },
    {
      "cell_type": "markdown",
      "source": [
        "type check\n"
      ],
      "metadata": {
        "id": "D6aVfxlJF4na"
      }
    },
    {
      "cell_type": "code",
      "source": [
        "print(type(my_tuple))"
      ],
      "metadata": {
        "colab": {
          "base_uri": "https://localhost:8080/"
        },
        "id": "Obr7I-JAF7Cn",
        "outputId": "f508d04f-4db4-4e62-88ed-2f65204d9fbf"
      },
      "execution_count": 31,
      "outputs": [
        {
          "output_type": "stream",
          "name": "stdout",
          "text": [
            "<class 'tuple'>\n"
          ]
        }
      ]
    }
  ]
}